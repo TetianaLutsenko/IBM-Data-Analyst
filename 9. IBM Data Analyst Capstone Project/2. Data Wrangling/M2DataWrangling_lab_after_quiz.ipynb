{
  "metadata": {
    "kernelspec": {
      "name": "python",
      "display_name": "Python (Pyodide)",
      "language": "python"
    },
    "language_info": {
      "codemirror_mode": {
        "name": "python",
        "version": 3
      },
      "file_extension": ".py",
      "mimetype": "text/x-python",
      "name": "python",
      "nbconvert_exporter": "python",
      "pygments_lexer": "ipython3",
      "version": "3.8"
    },
    "prev_pub_hash": "955deb52b02eec3e16e61df584232f2cc045079d697f475cb65582dbfebe300c",
    "colab": {
      "provenance": []
    }
  },
  "nbformat_minor": 0,
  "nbformat": 4,
  "cells": [
    {
      "cell_type": "markdown",
      "source": [
        "<p style=\"text-align:center\">\n",
        "    <a href=\"https://skills.network/?utm_medium=Exinfluencer&utm_source=Exinfluencer&utm_content=000026UJ&utm_term=10006555&utm_id=NA-SkillsNetwork-Channel-SkillsNetworkCoursesIBMDA0321ENSkillsNetwork928-2022-01-01\" target=\"_blank\">\n",
        "    <img src=\"https://cf-courses-data.s3.us.cloud-object-storage.appdomain.cloud/assets/logos/SN_web_lightmode.png\" width=\"200\" alt=\"Skills Network Logo\"  />\n",
        "    </a>\n",
        "</p>\n"
      ],
      "metadata": {
        "id": "Nf4dcIfcRatb"
      }
    },
    {
      "cell_type": "markdown",
      "source": [
        "# **Data Wrangling Lab**\n"
      ],
      "metadata": {
        "id": "k73AYGqpRato"
      }
    },
    {
      "cell_type": "markdown",
      "source": [
        "Estimated time needed: **45 to 60** minutes\n"
      ],
      "metadata": {
        "id": "HTpXPPTORatr"
      }
    },
    {
      "cell_type": "markdown",
      "source": [
        "In this assignment you will be performing data wrangling.\n"
      ],
      "metadata": {
        "id": "GA1yualmRats"
      }
    },
    {
      "cell_type": "markdown",
      "source": [
        "## Objectives\n"
      ],
      "metadata": {
        "id": "_0fG7yTLRatu"
      }
    },
    {
      "cell_type": "markdown",
      "source": [
        "In this lab you will perform the following:\n"
      ],
      "metadata": {
        "id": "6c2QzgyyRatv"
      }
    },
    {
      "cell_type": "markdown",
      "source": [
        "-   Identify duplicate values in the dataset.\n",
        "\n",
        "-   Remove duplicate values from the dataset.\n",
        "\n",
        "-   Identify missing values in the dataset.\n",
        "\n",
        "-   Impute the missing values in the dataset.\n",
        "\n",
        "-   Normalize data in the dataset.\n"
      ],
      "metadata": {
        "id": "wttTtkNPRatw"
      }
    },
    {
      "cell_type": "markdown",
      "source": [
        "<hr>\n"
      ],
      "metadata": {
        "id": "QxCiAxkURaty"
      }
    },
    {
      "cell_type": "markdown",
      "source": [
        "## Hands on Lab\n"
      ],
      "metadata": {
        "id": "RKqLFYIdRat0"
      }
    },
    {
      "cell_type": "markdown",
      "source": [
        "Import pandas module.\n"
      ],
      "metadata": {
        "id": "hL8P3aMkRat2"
      }
    },
    {
      "cell_type": "code",
      "source": [
        "import pandas as pd"
      ],
      "metadata": {
        "trusted": true,
        "id": "N8Ywyp5tRat4"
      },
      "outputs": [],
      "execution_count": null
    },
    {
      "cell_type": "markdown",
      "source": [
        "Load the dataset into a dataframe.\n"
      ],
      "metadata": {
        "id": "I_72QZq8Rat-"
      }
    },
    {
      "cell_type": "markdown",
      "source": [
        "<h2>Read Data</h2>\n",
        "<p>\n",
        "We utilize the <code>pandas.read_csv()</code> function for reading CSV files. However, in this version of the lab, which operates on JupyterLite, the dataset needs to be downloaded to the interface using the provided code below.\n",
        "</p>\n"
      ],
      "metadata": {
        "id": "bEVaQW_tRauA"
      }
    },
    {
      "cell_type": "markdown",
      "source": [
        "The functions below will download the dataset into your browser:\n"
      ],
      "metadata": {
        "id": "6zpCndlmRauB"
      }
    },
    {
      "cell_type": "code",
      "source": [
        "from pyodide.http import pyfetch\n",
        "\n",
        "async def download(url, filename):\n",
        "    response = await pyfetch(url)\n",
        "    if response.status == 200:\n",
        "        with open(filename, \"wb\") as f:\n",
        "            f.write(await response.bytes())"
      ],
      "metadata": {
        "trusted": true,
        "id": "9tgIQeosRauD"
      },
      "outputs": [],
      "execution_count": null
    },
    {
      "cell_type": "code",
      "source": [
        "file_path = \"https://cf-courses-data.s3.us.cloud-object-storage.appdomain.cloud/IBM-DA0321EN-SkillsNetwork/LargeData/m1_survey_data.csv\""
      ],
      "metadata": {
        "trusted": true,
        "id": "7T4cBqWnRauF"
      },
      "outputs": [],
      "execution_count": null
    },
    {
      "cell_type": "markdown",
      "source": [
        "To obtain the dataset, utilize the download() function as defined above:  \n"
      ],
      "metadata": {
        "id": "CJJm6Pf-RauG"
      }
    },
    {
      "cell_type": "code",
      "source": [
        "await download(file_path, \"m1_survey_data.csv\")\n",
        "file_name=\"m1_survey_data.csv\""
      ],
      "metadata": {
        "trusted": true,
        "id": "FyFj5U64RauH"
      },
      "outputs": [],
      "execution_count": null
    },
    {
      "cell_type": "markdown",
      "source": [
        "Utilize the Pandas method read_csv() to load the data into a dataframe.\n"
      ],
      "metadata": {
        "id": "d9Plw1M_RauJ"
      }
    },
    {
      "cell_type": "code",
      "source": [
        "df = pd.read_csv(file_name)"
      ],
      "metadata": {
        "trusted": true,
        "id": "DXf8KOMyRauL"
      },
      "outputs": [],
      "execution_count": null
    },
    {
      "cell_type": "markdown",
      "source": [
        "> Note: This version of the lab is working on JupyterLite, which requires the dataset to be downloaded to the interface.While working on the downloaded version of this notebook on their local machines(Jupyter Anaconda), the learners can simply **skip the steps above,** and simply use the URL directly in the `pandas.read_csv()` function. You can uncomment and run the statements in the cell below.\n"
      ],
      "metadata": {
        "id": "VV-1lqsGRauN"
      }
    },
    {
      "cell_type": "code",
      "source": [
        "#df = pd.read_csv(\"https://cf-courses-data.s3.us.cloud-object-storage.appdomain.cloud/IBM-DA0321EN-SkillsNetwork/LargeData/m1_survey_data.csv\")"
      ],
      "metadata": {
        "id": "oAln0cnGRauO"
      },
      "outputs": [],
      "execution_count": null
    },
    {
      "cell_type": "markdown",
      "source": [
        "## Finding duplicates\n"
      ],
      "metadata": {
        "id": "wub-mYXvRauP"
      }
    },
    {
      "cell_type": "markdown",
      "source": [
        "In this section you will identify duplicate values in the dataset.\n"
      ],
      "metadata": {
        "id": "hDps8MYORauR"
      }
    },
    {
      "cell_type": "markdown",
      "source": [
        " Find how many duplicate rows exist in the dataframe.\n"
      ],
      "metadata": {
        "id": "3yshkIk9RauS"
      }
    },
    {
      "cell_type": "code",
      "source": [
        "df.duplicated().value_counts()"
      ],
      "metadata": {
        "trusted": true,
        "id": "gKQPFVeZRauT",
        "outputId": "82906506-2c98-4976-bdb3-edeec2c6418f"
      },
      "outputs": [
        {
          "execution_count": 9,
          "output_type": "execute_result",
          "data": {
            "text/plain": "False    11398\nTrue       154\ndtype: int64"
          },
          "metadata": {}
        }
      ],
      "execution_count": null
    },
    {
      "cell_type": "markdown",
      "source": [
        "## Removing duplicates\n"
      ],
      "metadata": {
        "id": "34JatbQtRaua"
      }
    },
    {
      "cell_type": "markdown",
      "source": [
        "Remove the duplicate rows from the dataframe.\n"
      ],
      "metadata": {
        "id": "IK5VVwxxRaub"
      }
    },
    {
      "cell_type": "code",
      "source": [
        "df.drop_duplicates(inplace=True)"
      ],
      "metadata": {
        "trusted": true,
        "id": "t0TRN4QoRauc"
      },
      "outputs": [],
      "execution_count": null
    },
    {
      "cell_type": "markdown",
      "source": [
        "Verify if duplicates were actually dropped.\n"
      ],
      "metadata": {
        "id": "k__YpD0RRaue"
      }
    },
    {
      "cell_type": "code",
      "source": [
        "df.duplicated().value_counts()"
      ],
      "metadata": {
        "trusted": true,
        "id": "WL7vxmq8Rauf",
        "outputId": "a6c14e93-7e4f-4d5b-cca4-49f6a96ebfdd"
      },
      "outputs": [
        {
          "execution_count": 11,
          "output_type": "execute_result",
          "data": {
            "text/plain": "False    11398\ndtype: int64"
          },
          "metadata": {}
        }
      ],
      "execution_count": null
    },
    {
      "cell_type": "markdown",
      "source": [
        "## Finding Missing values\n"
      ],
      "metadata": {
        "id": "OS7VoXaVRauh"
      }
    },
    {
      "cell_type": "markdown",
      "source": [
        "Find the missing values for all columns.\n"
      ],
      "metadata": {
        "id": "ng_3W0AgRaui"
      }
    },
    {
      "cell_type": "code",
      "source": [
        "df.info()\n",
        "df.isnull().sum()"
      ],
      "metadata": {
        "trusted": true,
        "id": "ig3TpmhPRauj",
        "outputId": "1dec5845-266d-4e05-bcf0-91198bfce4b2"
      },
      "outputs": [
        {
          "name": "stdout",
          "text": "<class 'pandas.core.frame.DataFrame'>\nInt64Index: 11398 entries, 0 to 11551\nData columns (total 85 columns):\n #   Column                  Non-Null Count  Dtype  \n---  ------                  --------------  -----  \n 0   Respondent              11398 non-null  int64  \n 1   MainBranch              11398 non-null  object \n 2   Hobbyist                11398 non-null  object \n 3   OpenSourcer             11398 non-null  object \n 4   OpenSource              11317 non-null  object \n 5   Employment              11398 non-null  object \n 6   Country                 11398 non-null  object \n 7   Student                 11347 non-null  object \n 8   EdLevel                 11286 non-null  object \n 9   UndergradMajor          10661 non-null  object \n 10  EduOther                11234 non-null  object \n 11  OrgSize                 11302 non-null  object \n 12  DevType                 11333 non-null  object \n 13  YearsCode               11389 non-null  object \n 14  Age1stCode              11385 non-null  object \n 15  YearsCodePro            11382 non-null  object \n 16  CareerSat               11398 non-null  object \n 17  JobSat                  11397 non-null  object \n 18  MgrIdiot                10905 non-null  object \n 19  MgrMoney                10901 non-null  object \n 20  MgrWant                 10905 non-null  object \n 21  JobSeek                 11398 non-null  object \n 22  LastHireDate            11398 non-null  object \n 23  LastInt                 10985 non-null  object \n 24  FizzBuzz                11361 non-null  object \n 25  JobFactors              11395 non-null  object \n 26  ResumeUpdate            11359 non-null  object \n 27  CurrencySymbol          11398 non-null  object \n 28  CurrencyDesc            11398 non-null  object \n 29  CompTotal               10589 non-null  float64\n 30  CompFreq                11192 non-null  object \n 31  ConvertedComp           10582 non-null  float64\n 32  WorkWeekHrs             11276 non-null  float64\n 33  WorkPlan                11277 non-null  object \n 34  WorkChallenge           11234 non-null  object \n 35  WorkRemote              11390 non-null  object \n 36  WorkLoc                 11366 non-null  object \n 37  ImpSyn                  11393 non-null  object \n 38  CodeRev                 11397 non-null  object \n 39  CodeRevHrs              8972 non-null   float64\n 40  UnitTests               11369 non-null  object \n 41  PurchaseHow             11202 non-null  object \n 42  PurchaseWhat            11360 non-null  object \n 43  LanguageWorkedWith      11387 non-null  object \n 44  LanguageDesireNextYear  11264 non-null  object \n 45  DatabaseWorkedWith      10945 non-null  object \n 46  DatabaseDesireNextYear  10356 non-null  object \n 47  PlatformWorkedWith      10987 non-null  object \n 48  PlatformDesireNextYear  10854 non-null  object \n 49  WebFrameWorkedWith      10005 non-null  object \n 50  WebFrameDesireNextYear  9781 non-null   object \n 51  MiscTechWorkedWith      9216 non-null   object \n 52  MiscTechDesireNextYear  9943 non-null   object \n 53  DevEnviron              11369 non-null  object \n 54  OpSys                   11364 non-null  object \n 55  Containers              11316 non-null  object \n 56  BlockchainOrg           9076 non-null   object \n 57  BlockchainIs            8788 non-null   object \n 58  BetterLife              11300 non-null  object \n 59  ITperson                11363 non-null  object \n 60  OffOn                   11360 non-null  object \n 61  SocialMedia             11105 non-null  object \n 62  Extraversion            11378 non-null  object \n 63  ScreenName              10891 non-null  object \n 64  SOVisit1st              11073 non-null  object \n 65  SOVisitFreq             11393 non-null  object \n 66  SOVisitTo               11397 non-null  object \n 67  SOFindAnswer            11395 non-null  object \n 68  SOTimeSaved             11348 non-null  object \n 69  SOHowMuchTime           9481 non-null   object \n 70  SOAccount               11397 non-null  object \n 71  SOPartFreq              10270 non-null  object \n 72  SOJobs                  11392 non-null  object \n 73  EntTeams                11393 non-null  object \n 74  SOComm                  11398 non-null  object \n 75  WelcomeChange           11313 non-null  object \n 76  SONewContent            9433 non-null   object \n 77  Age                     11111 non-null  float64\n 78  Gender                  11325 non-null  object \n 79  Trans                   11275 non-null  object \n 80  Sexuality               10856 non-null  object \n 81  Ethnicity               10723 non-null  object \n 82  Dependents              11258 non-null  object \n 83  SurveyLength            11379 non-null  object \n 84  SurveyEase              11384 non-null  object \ndtypes: float64(5), int64(1), object(79)\nmemory usage: 4.0+ MB\n",
          "output_type": "stream"
        },
        {
          "execution_count": 12,
          "output_type": "execute_result",
          "data": {
            "text/plain": "Respondent        0\nMainBranch        0\nHobbyist          0\nOpenSourcer       0\nOpenSource       81\n               ... \nSexuality       542\nEthnicity       675\nDependents      140\nSurveyLength     19\nSurveyEase       14\nLength: 85, dtype: int64"
          },
          "metadata": {}
        }
      ],
      "execution_count": null
    },
    {
      "cell_type": "markdown",
      "source": [
        "Find out how many rows are missing in the column 'WorkLoc'\n"
      ],
      "metadata": {
        "id": "mswNnyPbRaum"
      }
    },
    {
      "cell_type": "code",
      "source": [
        "df['WorkLoc'].isnull().sum()"
      ],
      "metadata": {
        "trusted": true,
        "id": "JLkHjJ1fRaun",
        "outputId": "a4f83a35-0b21-4fed-d2a5-176caacdddf4"
      },
      "outputs": [
        {
          "execution_count": 19,
          "output_type": "execute_result",
          "data": {
            "text/plain": "32"
          },
          "metadata": {}
        }
      ],
      "execution_count": null
    },
    {
      "cell_type": "markdown",
      "source": [
        "## Imputing missing values\n"
      ],
      "metadata": {
        "id": "0I1VUGGSRaup"
      }
    },
    {
      "cell_type": "markdown",
      "source": [
        "Find the  value counts for the column WorkLoc.\n"
      ],
      "metadata": {
        "id": "mmj5brVWRauq"
      }
    },
    {
      "cell_type": "code",
      "source": [
        "df['WorkLoc'].value_counts()"
      ],
      "metadata": {
        "trusted": true,
        "id": "jD9cn00uRaur",
        "outputId": "052bcdc6-9a7b-4e6e-f911-0553d95ebdd1"
      },
      "outputs": [
        {
          "execution_count": 20,
          "output_type": "execute_result",
          "data": {
            "text/plain": "Office                                            6806\nHome                                              3589\nOther place, such as a coworking space or cafe     971\nName: WorkLoc, dtype: int64"
          },
          "metadata": {}
        }
      ],
      "execution_count": null
    },
    {
      "cell_type": "markdown",
      "source": [
        "Identify the value that is most frequent (majority) in the WorkLoc column.\n"
      ],
      "metadata": {
        "id": "dcJ_mKWVRavJ"
      }
    },
    {
      "cell_type": "code",
      "source": [
        "#make a note of the majority value here, for future reference\n",
        "#\n",
        "freq = df['WorkLoc'].value_counts().idxmax()\n",
        "freq\n"
      ],
      "metadata": {
        "trusted": true,
        "id": "DmVcq0XqRavN",
        "outputId": "c173048e-f6f3-4530-ebf1-3192c5524145"
      },
      "outputs": [
        {
          "execution_count": 21,
          "output_type": "execute_result",
          "data": {
            "text/plain": "'Office'"
          },
          "metadata": {}
        }
      ],
      "execution_count": null
    },
    {
      "cell_type": "markdown",
      "source": [
        "Impute (replace) all the empty rows in the column WorkLoc with the value that you have identified as majority.\n"
      ],
      "metadata": {
        "id": "VOo0agK0RavP"
      }
    },
    {
      "cell_type": "code",
      "source": [
        "df['WorkLoc'].fillna(freq, inplace = True)"
      ],
      "metadata": {
        "trusted": true,
        "id": "xviPhzfIRavR"
      },
      "outputs": [],
      "execution_count": null
    },
    {
      "cell_type": "markdown",
      "source": [
        "After imputation there should ideally not be any empty rows in the WorkLoc column.\n"
      ],
      "metadata": {
        "id": "ynO6283LRavZ"
      }
    },
    {
      "cell_type": "markdown",
      "source": [
        "Verify if imputing was successful.\n"
      ],
      "metadata": {
        "id": "OrDWvmiIRavb"
      }
    },
    {
      "cell_type": "code",
      "source": [
        "df['WorkLoc'].isnull().sum()\n",
        "#df.info()"
      ],
      "metadata": {
        "trusted": true,
        "id": "5G1UKOVdRavc",
        "outputId": "f22325f4-8cad-422e-8e6d-b3225884e290"
      },
      "outputs": [
        {
          "execution_count": 23,
          "output_type": "execute_result",
          "data": {
            "text/plain": "0"
          },
          "metadata": {}
        }
      ],
      "execution_count": null
    },
    {
      "cell_type": "markdown",
      "source": [
        "## Normalizing data\n"
      ],
      "metadata": {
        "id": "nRqXMR-ERavk"
      }
    },
    {
      "cell_type": "markdown",
      "source": [
        "There are two columns in the dataset that talk about compensation.\n",
        "\n",
        "One is \"CompFreq\". This column shows how often a developer is paid (Yearly, Monthly, Weekly).\n",
        "\n",
        "The other is \"CompTotal\". This column talks about how much the developer is paid per Year, Month, or Week depending upon his/her \"CompFreq\".\n",
        "\n",
        "This makes it difficult to compare the total compensation of the developers.\n",
        "\n",
        "In this section you will create a new column called 'NormalizedAnnualCompensation' which contains the 'Annual Compensation' irrespective of the 'CompFreq'.\n",
        "\n",
        "Once this column is ready, it makes comparison of salaries easy.\n"
      ],
      "metadata": {
        "id": "wrWok6lgRavl"
      }
    },
    {
      "cell_type": "markdown",
      "source": [
        "<hr>\n"
      ],
      "metadata": {
        "id": "yUJ_D0zNRavn"
      }
    },
    {
      "cell_type": "markdown",
      "source": [
        "List out the various categories in the column 'CompFreq'\n"
      ],
      "metadata": {
        "id": "x1yZXwRWRavp"
      }
    },
    {
      "cell_type": "code",
      "source": [
        "df['CompFreq'].unique()\n"
      ],
      "metadata": {
        "trusted": true,
        "id": "63BpnWhJRavw",
        "outputId": "6f685a88-a733-4a78-ab2b-02aae51a7684"
      },
      "outputs": [
        {
          "execution_count": 24,
          "output_type": "execute_result",
          "data": {
            "text/plain": "array(['Yearly', 'Monthly', 'Weekly', nan], dtype=object)"
          },
          "metadata": {}
        }
      ],
      "execution_count": null
    },
    {
      "cell_type": "markdown",
      "source": [
        "Create a new column named 'NormalizedAnnualCompensation'. Use the hint given below if needed.\n"
      ],
      "metadata": {
        "id": "C13aV1IkRavz"
      }
    },
    {
      "cell_type": "markdown",
      "source": [
        "Double click to see the **Hint**.\n",
        "\n",
        "<!--\n",
        "\n",
        "Use the below logic to arrive at the values for the column NormalizedAnnualCompensation.\n",
        "\n",
        "If the CompFreq is Yearly then use the exising value in CompTotal\n",
        "If the CompFreq is Monthly then multiply the value in CompTotal with 12 (months in an year)\n",
        "If the CompFreq is Weekly then multiply the value in CompTotal with 52 (weeks in an year)\n",
        "\n",
        "-->\n"
      ],
      "metadata": {
        "id": "qgEdUjPjRav0"
      }
    },
    {
      "cell_type": "code",
      "source": [
        "def norm_com(row):\n",
        "    if row['CompFreq'] == 'Yearly':\n",
        "        return row['CompTotal']\n",
        "    elif row['CompFreq'] == 'Monthly':\n",
        "        return row['CompTotal']*12\n",
        "    elif row['CompFreq'] == 'Weekly':\n",
        "        return row['CompTotal']*52\n",
        "    else:\n",
        "        return None\n",
        "\n",
        "df['NormalizedAnnualCompensation'] = df.apply(norm_com, axis=1)\n",
        "\n",
        "df[['CompFreq', 'CompTotal', 'NormalizedAnnualCompensation']].head()\n"
      ],
      "metadata": {
        "trusted": true,
        "id": "P8Ckm84ORav2",
        "outputId": "1788a2a3-c9f8-400f-8521-da097ace0fa4"
      },
      "outputs": [
        {
          "execution_count": 25,
          "output_type": "execute_result",
          "data": {
            "text/plain": "  CompFreq  CompTotal  NormalizedAnnualCompensation\n0   Yearly    61000.0                       61000.0\n1   Yearly   138000.0                      138000.0\n2   Yearly    90000.0                       90000.0\n3  Monthly    29000.0                      348000.0\n4   Yearly    90000.0                       90000.0",
            "text/html": "<div>\n<style scoped>\n    .dataframe tbody tr th:only-of-type {\n        vertical-align: middle;\n    }\n\n    .dataframe tbody tr th {\n        vertical-align: top;\n    }\n\n    .dataframe thead th {\n        text-align: right;\n    }\n</style>\n<table border=\"1\" class=\"dataframe\">\n  <thead>\n    <tr style=\"text-align: right;\">\n      <th></th>\n      <th>CompFreq</th>\n      <th>CompTotal</th>\n      <th>NormalizedAnnualCompensation</th>\n    </tr>\n  </thead>\n  <tbody>\n    <tr>\n      <th>0</th>\n      <td>Yearly</td>\n      <td>61000.0</td>\n      <td>61000.0</td>\n    </tr>\n    <tr>\n      <th>1</th>\n      <td>Yearly</td>\n      <td>138000.0</td>\n      <td>138000.0</td>\n    </tr>\n    <tr>\n      <th>2</th>\n      <td>Yearly</td>\n      <td>90000.0</td>\n      <td>90000.0</td>\n    </tr>\n    <tr>\n      <th>3</th>\n      <td>Monthly</td>\n      <td>29000.0</td>\n      <td>348000.0</td>\n    </tr>\n    <tr>\n      <th>4</th>\n      <td>Yearly</td>\n      <td>90000.0</td>\n      <td>90000.0</td>\n    </tr>\n  </tbody>\n</table>\n</div>"
          },
          "metadata": {}
        }
      ],
      "execution_count": null
    },
    {
      "cell_type": "code",
      "source": [
        "df['UndergradMajor'].value_counts()"
      ],
      "metadata": {
        "trusted": true,
        "id": "cJzqHPaqRav-",
        "outputId": "a784c742-4915-4329-b572-bb395771e510"
      },
      "outputs": [
        {
          "execution_count": 15,
          "output_type": "execute_result",
          "data": {
            "text/plain": "Computer science, computer engineering, or software engineering          6953\nInformation systems, information technology, or system administration     794\nAnother engineering discipline (ex. civil, electrical, mechanical)        759\nWeb development or web design                                             410\nA natural science (ex. biology, chemistry, physics)                       403\nMathematics or statistics                                                 372\nA business discipline (ex. accounting, finance, marketing)                244\nA social science (ex. anthropology, psychology, political science)        210\nA humanities discipline (ex. literature, history, philosophy)             207\nFine arts or performing arts (ex. graphic design, music, studio art)      161\nI never declared a major                                                  124\nA health science (ex. nursing, pharmacy, radiology)                        24\nName: UndergradMajor, dtype: int64"
          },
          "metadata": {}
        }
      ],
      "execution_count": null
    },
    {
      "cell_type": "code",
      "source": [
        "df['ConvertedComp']"
      ],
      "metadata": {
        "trusted": true,
        "id": "KjqjgAvsRawB",
        "outputId": "14610042-f3a0-4a15-dfd4-65b3c03e0023"
      },
      "outputs": [
        {
          "execution_count": 26,
          "output_type": "execute_result",
          "data": {
            "text/plain": "0         61000.0\n1         95179.0\n2         90000.0\n3        455352.0\n4         65277.0\n           ...   \n11547    130000.0\n11548     19880.0\n11549    105000.0\n11550     80371.0\n11551         NaN\nName: ConvertedComp, Length: 11398, dtype: float64"
          },
          "metadata": {}
        }
      ],
      "execution_count": null
    },
    {
      "cell_type": "code",
      "source": [
        "df['CompFreq'].value_counts()"
      ],
      "metadata": {
        "trusted": true,
        "id": "gD-ug6VFRawE",
        "outputId": "b962e4ff-e1b4-4a02-e5cc-6d1b29db145f"
      },
      "outputs": [
        {
          "execution_count": 17,
          "output_type": "execute_result",
          "data": {
            "text/plain": "Yearly     6073\nMonthly    4788\nWeekly      331\nName: CompFreq, dtype: int64"
          },
          "metadata": {}
        }
      ],
      "execution_count": null
    },
    {
      "cell_type": "code",
      "source": [
        "df['NormalizedAnnualCompensation'].median()"
      ],
      "metadata": {
        "trusted": true,
        "id": "c2ro_SS3RawN",
        "outputId": "cd0c851d-73cf-44be-9c7a-597343ec005c"
      },
      "outputs": [
        {
          "execution_count": 27,
          "output_type": "execute_result",
          "data": {
            "text/plain": "100000.0"
          },
          "metadata": {}
        }
      ],
      "execution_count": null
    },
    {
      "cell_type": "markdown",
      "source": [
        "## Authors\n"
      ],
      "metadata": {
        "id": "yl8yPZFnRawL"
      }
    },
    {
      "cell_type": "markdown",
      "source": [
        "Ramesh Sannareddy\n"
      ],
      "metadata": {
        "id": "V2CwrndxRawP"
      }
    },
    {
      "cell_type": "markdown",
      "source": [
        "### Other Contributors\n"
      ],
      "metadata": {
        "id": "jGxNZwLFRawV"
      }
    },
    {
      "cell_type": "markdown",
      "source": [
        "Rav Ahuja\n"
      ],
      "metadata": {
        "id": "0vheJ0LiRawX"
      }
    },
    {
      "cell_type": "markdown",
      "source": [
        "## Change Log\n"
      ],
      "metadata": {
        "id": "ttLQCkUlRawZ"
      }
    },
    {
      "cell_type": "markdown",
      "source": [
        "| Date (YYYY-MM-DD) | Version | Changed By        | Change Description                 |\n",
        "| ----------------- | ------- | ----------------- | ---------------------------------- |\n",
        "| 2020-10-17        | 0.1     | Ramesh Sannareddy | Created initial version of the lab |\n"
      ],
      "metadata": {
        "id": "cw6m-jhGRawb"
      }
    },
    {
      "cell_type": "markdown",
      "source": [
        " Copyright © 2020 IBM Corporation. This notebook and its source code are released under the terms of the [MIT License](https://cognitiveclass.ai/mit-license?utm_medium=Exinfluencer&utm_source=Exinfluencer&utm_content=000026UJ&utm_term=10006555&utm_id=NA-SkillsNetwork-Channel-SkillsNetworkCoursesIBMDA0321ENSkillsNetwork928-2022-01-01&cm_mmc=Email_Newsletter-_-Developer_Ed%2BTech-_-WW_WW-_-SkillsNetwork-Courses-IBM-DA0321EN-SkillsNetwork-21426264&cm_mmca1=000026UJ&cm_mmca2=10006555&cm_mmca3=M12345678&cvosrc=email.Newsletter.M12345678&cvo_campaign=000026UJ).\n"
      ],
      "metadata": {
        "id": "lJEpfcVJRawi"
      }
    }
  ]
}